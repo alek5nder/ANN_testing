{
 "cells": [
  {
   "metadata": {
    "ExecuteTime": {
     "end_time": "2025-06-01T16:57:07.272404Z",
     "start_time": "2025-06-01T16:56:27.674249Z"
    }
   },
   "cell_type": "code",
   "source": [
    "import pandas as pd\n",
    "import numpy as np\n",
    "\n",
    "\n",
    "dane = pd.read_excel(\"loty_clean.xlsx\")\n",
    "\n",
    "from sklearn.model_selection import train_test_split\n",
    "dane = dane.rename(columns={\"#Layovers\": \"Num_Layovers\", \"Price [PLN]\": \"Price\"})\n",
    "dane[\"Flight_date\"] = pd.to_datetime(dane[\"Flight_date\"])\n",
    "dane[\"Extraction_Time\"] = pd.to_datetime(dane[\"Extraction_Time\"].str.split(\" \").apply(lambda x: x[0]), dayfirst=True)\n",
    "dane.drop(columns = [\"Extraction_Time\", \"Flight_date\", \"arr_city\", \"dep_city\",\n",
    "                     \"Departure_airport_name\", \"Destination_airport_name\",\n",
    "                     \"layover_airport\", \"ujemne\", \"low_cost1\", \"low_cost2\"], inplace=True)\n",
    "dane.drop(columns=[\n",
    "    \"Ticket_class\", \"Departure_airport_code\", \"Destination_airport_code\",\n",
    "    \"Flight_weekday\", \"Extraction_Weekday\", \"Airline1\", \"Airline2\", \"Is_-2\"\n",
    "], inplace=True, errors='ignore')\n",
    "\n",
    "# przekształcamy na numeryczne (na wszelki wypadek)\n",
    "dane = dane.apply(pd.to_numeric)\n",
    "\n",
    "# target variable - cena lotu (zł)\n",
    "X = dane.drop(columns=\"Price\")\n",
    "y = dane[\"Price\"]\n",
    "import random\n",
    "\n",
    "random.seed(123)  # ziarenko dla powtarzalności wyników\n",
    "\n",
    "# podział na zbiór treningowy, walidacyjny i testowy - proporcje 80% : 20% : 20%\n",
    "X_train, X_test, y_train, y_test = train_test_split(X, y, train_size=0.8)\n",
    "\n",
    "# konwersja do macierzy numpy\n",
    "X_train_np = X_train.to_numpy().astype(np.float64)\n",
    "y_train_np = y_train.to_numpy().astype(np.float64)\n",
    "X_test_np = X_test.to_numpy().astype(np.float64)\n",
    "y_test_np = y_test.to_numpy().astype(np.float64)"
   ],
   "id": "4a17a80eec90be13",
   "outputs": [],
   "execution_count": 3
  },
  {
   "cell_type": "code",
   "id": "initial_id",
   "metadata": {
    "collapsed": true,
    "ExecuteTime": {
     "end_time": "2025-06-01T17:10:37.290808Z",
     "start_time": "2025-06-01T16:57:59.631322Z"
    }
   },
   "source": [
    "import pandas as pd\n",
    "import numpy as np\n",
    "import time\n",
    "from glob import glob\n",
    "from rf_regressor import RandomForestRegressor, mean_absolute_error, mean_squared_error, \\\n",
    "    r2_score, mean_absolute_percentage_error\n",
    "\n",
    "# === Output filename ===\n",
    "files = glob(\"feature_test_*.xlsx\")\n",
    "filename = f\"feature_test_{len(files)+1}.xlsx\"\n",
    "\n",
    "# List to store results\n",
    "feature_removal_results = []\n",
    "\n",
    "# Get feature names\n",
    "feature_names = list(X_train.columns)\n",
    "\n",
    "print(\"🔎 Starting feature importance test by removing each feature...\")\n",
    "\n",
    "for feature_to_remove in feature_names:\n",
    "    print(f\"\\n🚫 Removing feature: {feature_to_remove}\")\n",
    "\n",
    "    # Drop one feature\n",
    "    X_train_sub = X_train.drop(columns=[feature_to_remove])\n",
    "    X_test_sub = X_test.drop(columns=[feature_to_remove])\n",
    "\n",
    "    # Convert to NumPy\n",
    "    X_train_np = X_train_sub.to_numpy()\n",
    "    X_test_np = X_test_sub.to_numpy()\n",
    "    y_train_np = y_train.to_numpy()\n",
    "    y_test_np = y_test.to_numpy()\n",
    "\n",
    "    # Adjust max_features\n",
    "    max_features = int(X_train_np.shape[1] / 3)\n",
    "\n",
    "    # Train the model\n",
    "    rf = RandomForestRegressor(\n",
    "        n_estimators=50,\n",
    "        max_depth=5,\n",
    "        min_samples_split=2,\n",
    "        min_samples_leaf=1,\n",
    "        max_features=max_features,\n",
    "        bootstrap=True,\n",
    "        random_state=42\n",
    "    )\n",
    "\n",
    "    start_time = time.time()\n",
    "    rf.fit(X_train_np, y_train_np)\n",
    "    train_time = time.time() - start_time\n",
    "\n",
    "    # Make predictions\n",
    "    pred_train = rf.predict(X_train_np)\n",
    "    pred_test = rf.predict(X_test_np)\n",
    "\n",
    "    # Metrics\n",
    "    result = {\n",
    "        \"feature_removed\": feature_to_remove,\n",
    "        \"train_MSE\": mean_squared_error(y_train_np, pred_train),\n",
    "        \"test_MSE\": mean_squared_error(y_test_np, pred_test),\n",
    "        \"test_R2\": r2_score(y_test_np, pred_test),\n",
    "        \"test_MAE\": mean_absolute_error(y_test_np, pred_test),\n",
    "        \"test_MAPE\": mean_absolute_percentage_error(y_test_np, pred_test),\n",
    "        \"train_time_sec\": train_time\n",
    "    }\n",
    "\n",
    "    if rf.bootstrap:\n",
    "        result[\"OOB_R2\"] = rf.oob_score_\n",
    "        result[\"OOB_MSE\"] = rf.oob_mse_\n",
    "\n",
    "    feature_removal_results.append(result)\n",
    "\n",
    "# Save results\n",
    "result_df = pd.DataFrame(feature_removal_results)\n",
    "result_df.to_excel(filename, index=False)\n",
    "print(f\"\\n✅ Feature removal test completed. Results saved to: {filename}\")\n"
   ],
   "outputs": [
    {
     "name": "stdout",
     "output_type": "stream",
     "text": [
      "🔎 Starting feature importance test by removing each feature...\n",
      "\n",
      "🚫 Removing feature: Departure_time\n",
      "\n",
      "🚫 Removing feature: Arrival_time\n",
      "\n",
      "🚫 Removing feature: Flight_time\n",
      "\n",
      "🚫 Removing feature: Num_Layovers\n",
      "\n",
      "🚫 Removing feature: Cabin_bag\n",
      "\n",
      "🚫 Removing feature: Checked_bag\n",
      "\n",
      "🚫 Removing feature: Days_to_departure\n",
      "\n",
      "🚫 Removing feature: layover_duration\n",
      "\n",
      "✅ Feature removal test completed. Results saved to: feature_test_1.xlsx\n"
     ]
    }
   ],
   "execution_count": 4
  },
  {
   "metadata": {
    "ExecuteTime": {
     "end_time": "2025-06-01T09:41:38.122156Z",
     "start_time": "2025-06-01T09:20:39.667353Z"
    }
   },
   "cell_type": "code",
   "source": [
    "#test tylko do mse xd\n",
    "\n",
    "\n",
    "import pandas as pd\n",
    "import numpy as np\n",
    "import matplotlib.pyplot as plt\n",
    "from sklearn.model_selection import train_test_split\n",
    "from rf_regressor import RandomForestRegressor, mean_squared_error\n",
    "\n",
    "# === Load and prepare your dataset ===\n",
    "dane = dane.apply(pd.to_numeric)\n",
    "\n",
    "# target variable - cena lotu (zł)\n",
    "X = dane.drop(columns=\"Price\")\n",
    "y = dane[\"Price\"]\n",
    "\n",
    "X_train, X_test, y_train, y_test = train_test_split(X, y, test_size=0.2, random_state=42)\n",
    "X_train = X_train.to_numpy()\n",
    "X_test = X_test.to_numpy()\n",
    "y_train = y_train.to_numpy()\n",
    "y_test = y_test.to_numpy()\n",
    "\n",
    "\n",
    "\n",
    "# === Quick MSE test for different number of trees ===\n",
    "n_trees_list = [1, 5, 10, 20, 30, 50, 100]\n",
    "mse_list = []\n",
    "\n",
    "print(\"Quick MSE test — does performance improve as trees increase?\\n\")\n",
    "\n",
    "for n_trees in n_trees_list:\n",
    "    rf = RandomForestRegressor(n_estimators=n_trees, max_depth=5, max_features='sqrt', bootstrap=True)\n",
    "    rf.fit(X_train, y_train)\n",
    "    y_pred = rf.predict(X_test)\n",
    "    mse = mean_squared_error(y_test, y_pred)\n",
    "    mse_list.append(mse)\n",
    "    print(f\"n_estimators = {n_trees:3} | Test MSE = {mse:.4f}\")\n",
    "\n",
    "# === Optional: Plot ===\n",
    "plt.plot(n_trees_list, mse_list, marker='o')\n",
    "plt.xlabel(\"Number of Trees\")\n",
    "plt.ylabel(\"Test MSE\")\n",
    "plt.title(\"MSE vs Number of Trees\")\n",
    "plt.grid(True)\n",
    "plt.show()\n",
    "\n"
   ],
   "id": "505a0887b780620a",
   "outputs": [
    {
     "name": "stdout",
     "output_type": "stream",
     "text": [
      "Quick MSE test — does performance improve as trees increase?\n",
      "\n",
      "n_estimators =   1 | Test MSE = 654845.2057\n",
      "n_estimators =   5 | Test MSE = 193920.6117\n",
      "n_estimators =  10 | Test MSE = 168710.1031\n",
      "n_estimators =  20 | Test MSE = 164369.9255\n",
      "n_estimators =  30 | Test MSE = 175483.3243\n",
      "n_estimators =  50 | Test MSE = 176940.6282\n",
      "n_estimators = 100 | Test MSE = 167733.9768\n"
     ]
    },
    {
     "data": {
      "text/plain": [
       "<Figure size 640x480 with 1 Axes>"
      ],
      "image/png": "[encoded data removed]"
     },
     "metadata": {},
     "output_type": "display_data"
    }
   ],
   "execution_count": 7
  }
 ],
 "metadata": {
  "kernelspec": {
   "display_name": "Python 3",
   "language": "python",
   "name": "python3"
  },
  "language_info": {
   "codemirror_mode": {
    "name": "ipython",
    "version": 2
   },
   "file_extension": ".py",
   "mimetype": "text/x-python",
   "name": "python",
   "nbconvert_exporter": "python",
   "pygments_lexer": "ipython2",
   "version": "2.7.6"
  }
 },
 "nbformat": 4,
 "nbformat_minor": 5
}
